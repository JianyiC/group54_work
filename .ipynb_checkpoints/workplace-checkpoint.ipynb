{
 "cells": [
  {
   "cell_type": "markdown",
   "id": "8ff68a49-cae1-4116-ba14-80c9c887606f",
   "metadata": {},
   "source": [
    "TITLE"
   ]
  },
  {
   "cell_type": "markdown",
   "id": "b01cff0d-e9df-48d6-a4e8-6ef2a922a39a",
   "metadata": {},
   "source": [
    "introduction"
   ]
  },
  {
   "cell_type": "code",
   "execution_count": 13,
   "id": "3e30e013-215b-4126-9c9b-b2081e7af875",
   "metadata": {
    "tags": []
   },
   "outputs": [
    {
     "name": "stderr",
     "output_type": "stream",
     "text": [
      "Warning message in file(filename, \"r\", encoding = encoding):\n",
      "“cannot open file 'tests.R': No such file or directory”\n"
     ]
    },
    {
     "ename": "ERROR",
     "evalue": "Error in file(filename, \"r\", encoding = encoding): cannot open the connection\n",
     "output_type": "error",
     "traceback": [
      "Error in file(filename, \"r\", encoding = encoding): cannot open the connection\nTraceback:\n",
      "1. source(\"tests.R\")",
      "2. file(filename, \"r\", encoding = encoding)"
     ]
    }
   ],
   "source": [
    "library(tidyverse)\n",
    "library(repr)\n",
    "library(tidymodels)\n",
    "options(repr.matrix.max.rows = 6)\n",
    "source('tests.R')\n",
    "source('cleanup.R')"
   ]
  },
  {
   "cell_type": "code",
   "execution_count": 11,
   "id": "5e70d3ce-7502-4e1d-951e-9652bbaf61fb",
   "metadata": {
    "tags": []
   },
   "outputs": [
    {
     "ename": "ERROR",
     "evalue": "Error in vroom::vroom(file, delim = \",\", col_names = col_names, col_types = col_types, : object 'False' not found\n",
     "output_type": "error",
     "traceback": [
      "Error in vroom::vroom(file, delim = \",\", col_names = col_names, col_types = col_types, : object 'False' not found\nTraceback:\n",
      "1. read_csv(\"https://raw.githubusercontent.com/JianyiC/group54_work/main/player_stats.csv\", \n .     col_names = False)",
      "2. vroom::vroom(file, delim = \",\", col_names = col_names, col_types = col_types, \n .     col_select = {\n .         {\n .             col_select\n .         }\n .     }, id = id, .name_repair = name_repair, skip = skip, n_max = n_max, \n .     na = na, quote = quote, comment = comment, skip_empty_rows = skip_empty_rows, \n .     trim_ws = trim_ws, escape_double = TRUE, escape_backslash = FALSE, \n .     locale = locale, guess_max = guess_max, show_col_types = show_col_types, \n .     progress = progress, altrep = lazy, num_threads = num_threads)"
     ]
    }
   ],
   "source": [
    "player_stats <- read_csv(\"https://raw.githubusercontent.com/JianyiC/group54_work/main/player_stats.csv\", col_names = False)\n",
    "player_stats"
   ]
  },
  {
   "cell_type": "code",
   "execution_count": 15,
   "id": "468289d4-1dc4-4c07-8dd5-fe4eb2598dd0",
   "metadata": {},
   "outputs": [
    {
     "data": {
      "text/html": [
       "<style>\n",
       ".list-inline {list-style: none; margin:0; padding: 0}\n",
       ".list-inline>li {display: inline-block}\n",
       ".list-inline>li:not(:last-child)::after {content: \"\\00b7\"; padding: 0 .5ex}\n",
       "</style>\n",
       "<ol class=list-inline><li>'...1'</li><li>'Age'</li><li>'Country'</li><li>'Plays'</li><li>'Wikipedia'</li><li>'Current.Rank'</li><li>'Best.Rank'</li><li>'Name'</li><li>'Backhand'</li><li>'Prize.Money'</li><li>'Height'</li><li>'Favorite.Surface'</li><li>'Turned.Pro'</li><li>'Seasons'</li><li>'Active'</li><li>'Current.Elo.Rank'</li><li>'Best.Elo.Rank'</li><li>'Peak.Elo.Rating'</li><li>'Last.Appearance'</li><li>'Titles'</li><li>'GOAT.Rank'</li><li>'Best.Season'</li><li>'Retired'</li><li>'Masters'</li><li>'Birthplace'</li><li>'Residence'</li><li>'Weight'</li><li>'Coach'</li><li>'Facebook'</li><li>'Twitter'</li><li>'Nicknames'</li><li>'Grand.Slams'</li><li>'Davis.Cups'</li><li>'Web.Site'</li><li>'Team.Cups'</li><li>'Olympics'</li><li>'Weeks.at.No..1'</li><li>'Tour.Finals'</li></ol>\n"
      ],
      "text/latex": [
       "\\begin{enumerate*}\n",
       "\\item '...1'\n",
       "\\item 'Age'\n",
       "\\item 'Country'\n",
       "\\item 'Plays'\n",
       "\\item 'Wikipedia'\n",
       "\\item 'Current.Rank'\n",
       "\\item 'Best.Rank'\n",
       "\\item 'Name'\n",
       "\\item 'Backhand'\n",
       "\\item 'Prize.Money'\n",
       "\\item 'Height'\n",
       "\\item 'Favorite.Surface'\n",
       "\\item 'Turned.Pro'\n",
       "\\item 'Seasons'\n",
       "\\item 'Active'\n",
       "\\item 'Current.Elo.Rank'\n",
       "\\item 'Best.Elo.Rank'\n",
       "\\item 'Peak.Elo.Rating'\n",
       "\\item 'Last.Appearance'\n",
       "\\item 'Titles'\n",
       "\\item 'GOAT.Rank'\n",
       "\\item 'Best.Season'\n",
       "\\item 'Retired'\n",
       "\\item 'Masters'\n",
       "\\item 'Birthplace'\n",
       "\\item 'Residence'\n",
       "\\item 'Weight'\n",
       "\\item 'Coach'\n",
       "\\item 'Facebook'\n",
       "\\item 'Twitter'\n",
       "\\item 'Nicknames'\n",
       "\\item 'Grand.Slams'\n",
       "\\item 'Davis.Cups'\n",
       "\\item 'Web.Site'\n",
       "\\item 'Team.Cups'\n",
       "\\item 'Olympics'\n",
       "\\item 'Weeks.at.No..1'\n",
       "\\item 'Tour.Finals'\n",
       "\\end{enumerate*}\n"
      ],
      "text/markdown": [
       "1. '...1'\n",
       "2. 'Age'\n",
       "3. 'Country'\n",
       "4. 'Plays'\n",
       "5. 'Wikipedia'\n",
       "6. 'Current.Rank'\n",
       "7. 'Best.Rank'\n",
       "8. 'Name'\n",
       "9. 'Backhand'\n",
       "10. 'Prize.Money'\n",
       "11. 'Height'\n",
       "12. 'Favorite.Surface'\n",
       "13. 'Turned.Pro'\n",
       "14. 'Seasons'\n",
       "15. 'Active'\n",
       "16. 'Current.Elo.Rank'\n",
       "17. 'Best.Elo.Rank'\n",
       "18. 'Peak.Elo.Rating'\n",
       "19. 'Last.Appearance'\n",
       "20. 'Titles'\n",
       "21. 'GOAT.Rank'\n",
       "22. 'Best.Season'\n",
       "23. 'Retired'\n",
       "24. 'Masters'\n",
       "25. 'Birthplace'\n",
       "26. 'Residence'\n",
       "27. 'Weight'\n",
       "28. 'Coach'\n",
       "29. 'Facebook'\n",
       "30. 'Twitter'\n",
       "31. 'Nicknames'\n",
       "32. 'Grand.Slams'\n",
       "33. 'Davis.Cups'\n",
       "34. 'Web.Site'\n",
       "35. 'Team.Cups'\n",
       "36. 'Olympics'\n",
       "37. 'Weeks.at.No..1'\n",
       "38. 'Tour.Finals'\n",
       "\n",
       "\n"
      ],
      "text/plain": [
       " [1] \"...1\"             \"Age\"              \"Country\"          \"Plays\"           \n",
       " [5] \"Wikipedia\"        \"Current.Rank\"     \"Best.Rank\"        \"Name\"            \n",
       " [9] \"Backhand\"         \"Prize.Money\"      \"Height\"           \"Favorite.Surface\"\n",
       "[13] \"Turned.Pro\"       \"Seasons\"          \"Active\"           \"Current.Elo.Rank\"\n",
       "[17] \"Best.Elo.Rank\"    \"Peak.Elo.Rating\"  \"Last.Appearance\"  \"Titles\"          \n",
       "[21] \"GOAT.Rank\"        \"Best.Season\"      \"Retired\"          \"Masters\"         \n",
       "[25] \"Birthplace\"       \"Residence\"        \"Weight\"           \"Coach\"           \n",
       "[29] \"Facebook\"         \"Twitter\"          \"Nicknames\"        \"Grand.Slams\"     \n",
       "[33] \"Davis.Cups\"       \"Web.Site\"         \"Team.Cups\"        \"Olympics\"        \n",
       "[37] \"Weeks.at.No..1\"   \"Tour.Finals\"     "
      ]
     },
     "metadata": {},
     "output_type": "display_data"
    }
   ],
   "source": [
    "colnames(player_stats) <- make.names(colnames(player_stats))\n",
    "colnames(player_stats)"
   ]
  },
  {
   "cell_type": "code",
   "execution_count": 9,
   "id": "115c6e47-900c-49a5-a13a-b05e5f0c5fe4",
   "metadata": {},
   "outputs": [
    {
     "data": {
      "text/html": [
       "<table class=\"dataframe\">\n",
       "<caption>A tibble: 500 × 1</caption>\n",
       "<thead>\n",
       "\t<tr><th scope=col>Age</th></tr>\n",
       "\t<tr><th scope=col>&lt;chr&gt;</th></tr>\n",
       "</thead>\n",
       "<tbody>\n",
       "\t<tr><td>26 (25-04-1993)</td></tr>\n",
       "\t<tr><td>18 (22-12-2001)</td></tr>\n",
       "\t<tr><td>32 (03-11-1987)</td></tr>\n",
       "\t<tr><td>⋮</td></tr>\n",
       "\t<tr><td>23 (14-03-1996)</td></tr>\n",
       "\t<tr><td>24 (17-05-1995)</td></tr>\n",
       "\t<tr><td>22 (26-03-1997)</td></tr>\n",
       "</tbody>\n",
       "</table>\n"
      ],
      "text/latex": [
       "A tibble: 500 × 1\n",
       "\\begin{tabular}{l}\n",
       " Age\\\\\n",
       " <chr>\\\\\n",
       "\\hline\n",
       "\t 26 (25-04-1993)\\\\\n",
       "\t 18 (22-12-2001)\\\\\n",
       "\t 32 (03-11-1987)\\\\\n",
       "\t ⋮\\\\\n",
       "\t 23 (14-03-1996)\\\\\n",
       "\t 24 (17-05-1995)\\\\\n",
       "\t 22 (26-03-1997)\\\\\n",
       "\\end{tabular}\n"
      ],
      "text/markdown": [
       "\n",
       "A tibble: 500 × 1\n",
       "\n",
       "| Age &lt;chr&gt; |\n",
       "|---|\n",
       "| 26 (25-04-1993) |\n",
       "| 18 (22-12-2001) |\n",
       "| 32 (03-11-1987) |\n",
       "| ⋮ |\n",
       "| 23 (14-03-1996) |\n",
       "| 24 (17-05-1995) |\n",
       "| 22 (26-03-1997) |\n",
       "\n"
      ],
      "text/plain": [
       "    Age            \n",
       "1   26 (25-04-1993)\n",
       "2   18 (22-12-2001)\n",
       "3   32 (03-11-1987)\n",
       "⋮   ⋮              \n",
       "498 23 (14-03-1996)\n",
       "499 24 (17-05-1995)\n",
       "500 22 (26-03-1997)"
      ]
     },
     "metadata": {},
     "output_type": "display_data"
    }
   ],
   "source": [
    "player_stats_imp <- player_stats |>\n",
    "                    select(Age)\n",
    "player_stats_imp"
   ]
  },
  {
   "cell_type": "code",
   "execution_count": null,
   "id": "22fb5ee9-02fc-444d-90e1-a6940efaebbc",
   "metadata": {},
   "outputs": [],
   "source": []
  }
 ],
 "metadata": {
  "kernelspec": {
   "display_name": "R",
   "language": "R",
   "name": "ir"
  },
  "language_info": {
   "codemirror_mode": "r",
   "file_extension": ".r",
   "mimetype": "text/x-r-source",
   "name": "R",
   "pygments_lexer": "r",
   "version": "4.1.3"
  }
 },
 "nbformat": 4,
 "nbformat_minor": 5
}

{
 "cells": [
  {
   "cell_type": "code",
   "execution_count": null,
   "id": "737dec79-bfd2-4d64-a109-7fa15ca7b279",
   "metadata": {},
   "outputs": [
    {
     "name": "stderr",
     "output_type": "stream",
     "text": [
      "── \u001b[1mAttaching packages\u001b[22m ─────────────────────────────────────── tidyverse 1.3.1 ──\n",
      "\n",
      "\u001b[32m✔\u001b[39m \u001b[34mggplot2\u001b[39m 3.3.6     \u001b[32m✔\u001b[39m \u001b[34mpurrr  \u001b[39m 0.3.4\n",
      "\u001b[32m✔\u001b[39m \u001b[34mtibble \u001b[39m 3.1.7     \u001b[32m✔\u001b[39m \u001b[34mdplyr  \u001b[39m 1.0.9\n",
      "\u001b[32m✔\u001b[39m \u001b[34mtidyr  \u001b[39m 1.2.0     \u001b[32m✔\u001b[39m \u001b[34mstringr\u001b[39m 1.4.0\n",
      "\u001b[32m✔\u001b[39m \u001b[34mreadr  \u001b[39m 2.1.2     \u001b[32m✔\u001b[39m \u001b[34mforcats\u001b[39m 0.5.1\n",
      "\n",
      "── \u001b[1mConflicts\u001b[22m ────────────────────────────────────────── tidyverse_conflicts() ──\n",
      "\u001b[31m✖\u001b[39m \u001b[34mdplyr\u001b[39m::\u001b[32mfilter()\u001b[39m masks \u001b[34mstats\u001b[39m::filter()\n",
      "\u001b[31m✖\u001b[39m \u001b[34mdplyr\u001b[39m::\u001b[32mlag()\u001b[39m    masks \u001b[34mstats\u001b[39m::lag()\n",
      "\n",
      "── \u001b[1mAttaching packages\u001b[22m ────────────────────────────────────── tidymodels 1.0.0 ──\n",
      "\n",
      "\u001b[32m✔\u001b[39m \u001b[34mbroom       \u001b[39m 1.0.0     \u001b[32m✔\u001b[39m \u001b[34mrsample     \u001b[39m 1.0.0\n",
      "\u001b[32m✔\u001b[39m \u001b[34mdials       \u001b[39m 1.0.0     \u001b[32m✔\u001b[39m \u001b[34mtune        \u001b[39m 1.0.0\n",
      "\u001b[32m✔\u001b[39m \u001b[34minfer       \u001b[39m 1.0.2     \u001b[32m✔\u001b[39m \u001b[34mworkflows   \u001b[39m 1.0.0\n",
      "\u001b[32m✔\u001b[39m \u001b[34mmodeldata   \u001b[39m 1.0.0     \u001b[32m✔\u001b[39m \u001b[34mworkflowsets\u001b[39m 1.0.0\n",
      "\u001b[32m✔\u001b[39m \u001b[34mparsnip     \u001b[39m 1.0.0     \u001b[32m✔\u001b[39m \u001b[34myardstick   \u001b[39m 1.0.0\n",
      "\u001b[32m✔\u001b[39m \u001b[34mrecipes     \u001b[39m 1.0.1     \n",
      "\n",
      "── \u001b[1mConflicts\u001b[22m ───────────────────────────────────────── tidymodels_conflicts() ──\n",
      "\u001b[31m✖\u001b[39m \u001b[34mscales\u001b[39m::\u001b[32mdiscard()\u001b[39m masks \u001b[34mpurrr\u001b[39m::discard()\n",
      "\u001b[31m✖\u001b[39m \u001b[34mdplyr\u001b[39m::\u001b[32mfilter()\u001b[39m   masks \u001b[34mstats\u001b[39m::filter()\n",
      "\u001b[31m✖\u001b[39m \u001b[34mrecipes\u001b[39m::\u001b[32mfixed()\u001b[39m  masks \u001b[34mstringr\u001b[39m::fixed()\n",
      "\u001b[31m✖\u001b[39m \u001b[34mdplyr\u001b[39m::\u001b[32mlag()\u001b[39m      masks \u001b[34mstats\u001b[39m::lag()\n",
      "\u001b[31m✖\u001b[39m \u001b[34myardstick\u001b[39m::\u001b[32mspec()\u001b[39m masks \u001b[34mreadr\u001b[39m::spec()\n",
      "\u001b[31m✖\u001b[39m \u001b[34mrecipes\u001b[39m::\u001b[32mstep()\u001b[39m   masks \u001b[34mstats\u001b[39m::step()\n",
      "\u001b[34m•\u001b[39m Use suppressPackageStartupMessages() to eliminate package startup messages\n",
      "\n",
      "Warning message in file(filename, \"r\", encoding = encoding):\n",
      "“cannot open file 'tests.R': No such file or directory”\n"
     ]
    },
    {
     "ename": "ERROR",
     "evalue": "Error in file(filename, \"r\", encoding = encoding): cannot open the connection\n",
     "output_type": "error",
     "traceback": [
      "Error in file(filename, \"r\", encoding = encoding): cannot open the connection\nTraceback:\n",
      "1. source(\"tests.R\")",
      "2. file(filename, \"r\", encoding = encoding)"
     ]
    }
   ],
   "source": [
    "library(tidyverse)\n",
    "library(repr)\n",
    "library(tidymodels)\n",
    "options(repr.matrix.max.rows = 6)\n",
    "source('tests.R')\n",
    "source('cleanup.R')"
   ]
  },
  {
   "cell_type": "code",
   "execution_count": 2,
   "id": "874006e8-2e85-4a7b-a296-1381520366e9",
   "metadata": {},
   "outputs": [
    {
     "name": "stderr",
     "output_type": "stream",
     "text": [
      "\u001b[1m\u001b[22mNew names:\n",
      "\u001b[36m•\u001b[39m `` -> `...1`\n",
      "\u001b[1mRows: \u001b[22m\u001b[34m6866\u001b[39m \u001b[1mColumns: \u001b[22m\u001b[34m50\u001b[39m\n",
      "\u001b[36m──\u001b[39m \u001b[1mColumn specification\u001b[22m \u001b[36m────────────────────────────────────────────────────────\u001b[39m\n",
      "\u001b[1mDelimiter:\u001b[22m \",\"\n",
      "\u001b[31mchr\u001b[39m (16): tourney_id, tourney_name, surface, tourney_level, winner_seed, win...\n",
      "\u001b[32mdbl\u001b[39m (34): ...1, draw_size, tourney_date, match_num, winner_id, winner_ht, wi...\n",
      "\n",
      "\u001b[36mℹ\u001b[39m Use `spec()` to retrieve the full column specification for this data.\n",
      "\u001b[36mℹ\u001b[39m Specify the column types or set `show_col_types = FALSE` to quiet this message.\n"
     ]
    },
    {
     "data": {
      "text/html": [
       "<table class=\"dataframe\">\n",
       "<caption>A tibble: 6854 × 4</caption>\n",
       "<thead>\n",
       "\t<tr><th scope=col>winner_age</th><th scope=col>loser_age</th><th scope=col>winner_rank_points</th><th scope=col>loser_rank_points</th></tr>\n",
       "\t<tr><th scope=col>&lt;dbl&gt;</th><th scope=col>&lt;dbl&gt;</th><th scope=col>&lt;dbl&gt;</th><th scope=col>&lt;dbl&gt;</th></tr>\n",
       "</thead>\n",
       "<tbody>\n",
       "\t<tr><td>29.00479</td><td>22.88569</td><td>3590</td><td>1977</td></tr>\n",
       "\t<tr><td>22.88569</td><td>33.70568</td><td>1977</td><td> 200</td></tr>\n",
       "\t<tr><td>29.00479</td><td>31.88227</td><td>3590</td><td>1050</td></tr>\n",
       "\t<tr><td>⋮</td><td>⋮</td><td>⋮</td><td>⋮</td></tr>\n",
       "\t<tr><td>32.59411</td><td>33.68925</td><td>2320</td><td> 667</td></tr>\n",
       "\t<tr><td>26.95414</td><td>32.59411</td><td>3775</td><td>2320</td></tr>\n",
       "\t<tr><td>23.73990</td><td>33.68925</td><td>2235</td><td> 667</td></tr>\n",
       "</tbody>\n",
       "</table>\n"
      ],
      "text/latex": [
       "A tibble: 6854 × 4\n",
       "\\begin{tabular}{llll}\n",
       " winner\\_age & loser\\_age & winner\\_rank\\_points & loser\\_rank\\_points\\\\\n",
       " <dbl> & <dbl> & <dbl> & <dbl>\\\\\n",
       "\\hline\n",
       "\t 29.00479 & 22.88569 & 3590 & 1977\\\\\n",
       "\t 22.88569 & 33.70568 & 1977 &  200\\\\\n",
       "\t 29.00479 & 31.88227 & 3590 & 1050\\\\\n",
       "\t ⋮ & ⋮ & ⋮ & ⋮\\\\\n",
       "\t 32.59411 & 33.68925 & 2320 &  667\\\\\n",
       "\t 26.95414 & 32.59411 & 3775 & 2320\\\\\n",
       "\t 23.73990 & 33.68925 & 2235 &  667\\\\\n",
       "\\end{tabular}\n"
      ],
      "text/markdown": [
       "\n",
       "A tibble: 6854 × 4\n",
       "\n",
       "| winner_age &lt;dbl&gt; | loser_age &lt;dbl&gt; | winner_rank_points &lt;dbl&gt; | loser_rank_points &lt;dbl&gt; |\n",
       "|---|---|---|---|\n",
       "| 29.00479 | 22.88569 | 3590 | 1977 |\n",
       "| 22.88569 | 33.70568 | 1977 |  200 |\n",
       "| 29.00479 | 31.88227 | 3590 | 1050 |\n",
       "| ⋮ | ⋮ | ⋮ | ⋮ |\n",
       "| 32.59411 | 33.68925 | 2320 |  667 |\n",
       "| 26.95414 | 32.59411 | 3775 | 2320 |\n",
       "| 23.73990 | 33.68925 | 2235 |  667 |\n",
       "\n"
      ],
      "text/plain": [
       "     winner_age loser_age winner_rank_points loser_rank_points\n",
       "1    29.00479   22.88569  3590               1977             \n",
       "2    22.88569   33.70568  1977                200             \n",
       "3    29.00479   31.88227  3590               1050             \n",
       "⋮    ⋮          ⋮         ⋮                  ⋮                \n",
       "6852 32.59411   33.68925  2320                667             \n",
       "6853 26.95414   32.59411  3775               2320             \n",
       "6854 23.73990   33.68925  2235                667             "
      ]
     },
     "metadata": {},
     "output_type": "display_data"
    }
   ],
   "source": [
    "atp_data <- read_csv(\"https://raw.githubusercontent.com/JianyiC/group54_work/main/atp2017-2019.csv\") |>\n",
    "  select(winner_age, loser_age, winner_rank_points, loser_rank_points) |> \n",
    "  na.omit()\n",
    "atp_data"
   ]
  },
  {
   "cell_type": "code",
   "execution_count": 3,
   "id": "0affb0eb-e58c-4d76-8c68-04a42983c6a5",
   "metadata": {},
   "outputs": [
    {
     "data": {
      "text/html": [
       "<table class=\"dataframe\">\n",
       "<caption>A data.frame: 13708 × 3</caption>\n",
       "<thead>\n",
       "\t<tr><th scope=col>result</th><th scope=col>age</th><th scope=col>points</th></tr>\n",
       "\t<tr><th scope=col>&lt;chr&gt;</th><th scope=col>&lt;dbl&gt;</th><th scope=col>&lt;dbl&gt;</th></tr>\n",
       "</thead>\n",
       "<tbody>\n",
       "\t<tr><td>win</td><td>29.00479</td><td>3590</td></tr>\n",
       "\t<tr><td>win</td><td>22.88569</td><td>1977</td></tr>\n",
       "\t<tr><td>win</td><td>29.00479</td><td>3590</td></tr>\n",
       "\t<tr><td>⋮</td><td>⋮</td><td>⋮</td></tr>\n",
       "\t<tr><td>lose</td><td>33.68925</td><td> 667</td></tr>\n",
       "\t<tr><td>lose</td><td>32.59411</td><td>2320</td></tr>\n",
       "\t<tr><td>lose</td><td>33.68925</td><td> 667</td></tr>\n",
       "</tbody>\n",
       "</table>\n"
      ],
      "text/latex": [
       "A data.frame: 13708 × 3\n",
       "\\begin{tabular}{lll}\n",
       " result & age & points\\\\\n",
       " <chr> & <dbl> & <dbl>\\\\\n",
       "\\hline\n",
       "\t win & 29.00479 & 3590\\\\\n",
       "\t win & 22.88569 & 1977\\\\\n",
       "\t win & 29.00479 & 3590\\\\\n",
       "\t ⋮ & ⋮ & ⋮\\\\\n",
       "\t lose & 33.68925 &  667\\\\\n",
       "\t lose & 32.59411 & 2320\\\\\n",
       "\t lose & 33.68925 &  667\\\\\n",
       "\\end{tabular}\n"
      ],
      "text/markdown": [
       "\n",
       "A data.frame: 13708 × 3\n",
       "\n",
       "| result &lt;chr&gt; | age &lt;dbl&gt; | points &lt;dbl&gt; |\n",
       "|---|---|---|\n",
       "| win | 29.00479 | 3590 |\n",
       "| win | 22.88569 | 1977 |\n",
       "| win | 29.00479 | 3590 |\n",
       "| ⋮ | ⋮ | ⋮ |\n",
       "| lose | 33.68925 |  667 |\n",
       "| lose | 32.59411 | 2320 |\n",
       "| lose | 33.68925 |  667 |\n",
       "\n"
      ],
      "text/plain": [
       "      result age      points\n",
       "1     win    29.00479 3590  \n",
       "2     win    22.88569 1977  \n",
       "3     win    29.00479 3590  \n",
       "⋮     ⋮      ⋮        ⋮     \n",
       "13706 lose   33.68925  667  \n",
       "13707 lose   32.59411 2320  \n",
       "13708 lose   33.68925  667  "
      ]
     },
     "metadata": {},
     "output_type": "display_data"
    }
   ],
   "source": [
    "set.seed(256)\n",
    "#lose\n",
    "lose <- rep(c(\"lose\"), times = nrow(atp_data))\n",
    "atp_lose <- cbind(atp_data, lose) |>\n",
    "  select(lose, loser_age, loser_rank_points)\n",
    "\n",
    "colnames(atp_lose) <- c(\"result\", \"age\", \"points\")\n",
    "\n",
    "\n",
    "#win\n",
    "win <- rep(c(\"win\"), times = nrow(atp_data))\n",
    "atp_win <- cbind(atp_data, win) |>\n",
    "  select(win, winner_age, winner_rank_points)\n",
    "colnames(atp_win) <- c(\"result\", \"age\",\"points\")\n",
    "\n",
    "#to one form\n",
    "combined_data <- rbind(atp_win, atp_lose)\n",
    "combined_data \n"
   ]
  },
  {
   "cell_type": "code",
   "execution_count": 4,
   "id": "843bb9f3-a3b9-479c-a9a9-d2aa16ee6d0a",
   "metadata": {},
   "outputs": [
    {
     "data": {
      "text/html": [
       "<table class=\"dataframe\">\n",
       "<caption>A data.frame: 10966 × 3</caption>\n",
       "<thead>\n",
       "\t<tr><th></th><th scope=col>result</th><th scope=col>age</th><th scope=col>points</th></tr>\n",
       "\t<tr><th></th><th scope=col>&lt;chr&gt;</th><th scope=col>&lt;dbl&gt;</th><th scope=col>&lt;dbl&gt;</th></tr>\n",
       "</thead>\n",
       "<tbody>\n",
       "\t<tr><th scope=row>6855</th><td>lose</td><td>22.88569</td><td>1977</td></tr>\n",
       "\t<tr><th scope=row>6856</th><td>lose</td><td>33.70568</td><td> 200</td></tr>\n",
       "\t<tr><th scope=row>6857</th><td>lose</td><td>31.88227</td><td>1050</td></tr>\n",
       "\t<tr><th scope=row>⋮</th><td>⋮</td><td>⋮</td><td>⋮</td></tr>\n",
       "\t<tr><th scope=row>6852</th><td>win</td><td>32.59411</td><td>2320</td></tr>\n",
       "\t<tr><th scope=row>6853</th><td>win</td><td>26.95414</td><td>3775</td></tr>\n",
       "\t<tr><th scope=row>6854</th><td>win</td><td>23.73990</td><td>2235</td></tr>\n",
       "</tbody>\n",
       "</table>\n"
      ],
      "text/latex": [
       "A data.frame: 10966 × 3\n",
       "\\begin{tabular}{r|lll}\n",
       "  & result & age & points\\\\\n",
       "  & <chr> & <dbl> & <dbl>\\\\\n",
       "\\hline\n",
       "\t6855 & lose & 22.88569 & 1977\\\\\n",
       "\t6856 & lose & 33.70568 &  200\\\\\n",
       "\t6857 & lose & 31.88227 & 1050\\\\\n",
       "\t⋮ & ⋮ & ⋮ & ⋮\\\\\n",
       "\t6852 & win & 32.59411 & 2320\\\\\n",
       "\t6853 & win & 26.95414 & 3775\\\\\n",
       "\t6854 & win & 23.73990 & 2235\\\\\n",
       "\\end{tabular}\n"
      ],
      "text/markdown": [
       "\n",
       "A data.frame: 10966 × 3\n",
       "\n",
       "| <!--/--> | result &lt;chr&gt; | age &lt;dbl&gt; | points &lt;dbl&gt; |\n",
       "|---|---|---|---|\n",
       "| 6855 | lose | 22.88569 | 1977 |\n",
       "| 6856 | lose | 33.70568 |  200 |\n",
       "| 6857 | lose | 31.88227 | 1050 |\n",
       "| ⋮ | ⋮ | ⋮ | ⋮ |\n",
       "| 6852 | win | 32.59411 | 2320 |\n",
       "| 6853 | win | 26.95414 | 3775 |\n",
       "| 6854 | win | 23.73990 | 2235 |\n",
       "\n"
      ],
      "text/plain": [
       "     result age      points\n",
       "6855 lose   22.88569 1977  \n",
       "6856 lose   33.70568  200  \n",
       "6857 lose   31.88227 1050  \n",
       "⋮    ⋮      ⋮        ⋮     \n",
       "6852 win    32.59411 2320  \n",
       "6853 win    26.95414 3775  \n",
       "6854 win    23.73990 2235  "
      ]
     },
     "metadata": {},
     "output_type": "display_data"
    },
    {
     "data": {
      "text/html": [
       "<table class=\"dataframe\">\n",
       "<caption>A data.frame: 2742 × 3</caption>\n",
       "<thead>\n",
       "\t<tr><th></th><th scope=col>result</th><th scope=col>age</th><th scope=col>points</th></tr>\n",
       "\t<tr><th></th><th scope=col>&lt;chr&gt;</th><th scope=col>&lt;dbl&gt;</th><th scope=col>&lt;dbl&gt;</th></tr>\n",
       "</thead>\n",
       "<tbody>\n",
       "\t<tr><th scope=row>3</th><td>win</td><td>29.00479</td><td>3590</td></tr>\n",
       "\t<tr><th scope=row>4</th><td>win</td><td>33.70568</td><td> 200</td></tr>\n",
       "\t<tr><th scope=row>5</th><td>win</td><td>22.88569</td><td>1977</td></tr>\n",
       "\t<tr><th scope=row>⋮</th><td>⋮</td><td>⋮</td><td>⋮</td></tr>\n",
       "\t<tr><th scope=row>13692</th><td>lose</td><td>31.40862</td><td>10465</td></tr>\n",
       "\t<tr><th scope=row>13703</th><td>lose</td><td>36.26557</td><td> 9005</td></tr>\n",
       "\t<tr><th scope=row>13707</th><td>lose</td><td>32.59411</td><td> 2320</td></tr>\n",
       "</tbody>\n",
       "</table>\n"
      ],
      "text/latex": [
       "A data.frame: 2742 × 3\n",
       "\\begin{tabular}{r|lll}\n",
       "  & result & age & points\\\\\n",
       "  & <chr> & <dbl> & <dbl>\\\\\n",
       "\\hline\n",
       "\t3 & win & 29.00479 & 3590\\\\\n",
       "\t4 & win & 33.70568 &  200\\\\\n",
       "\t5 & win & 22.88569 & 1977\\\\\n",
       "\t⋮ & ⋮ & ⋮ & ⋮\\\\\n",
       "\t13692 & lose & 31.40862 & 10465\\\\\n",
       "\t13703 & lose & 36.26557 &  9005\\\\\n",
       "\t13707 & lose & 32.59411 &  2320\\\\\n",
       "\\end{tabular}\n"
      ],
      "text/markdown": [
       "\n",
       "A data.frame: 2742 × 3\n",
       "\n",
       "| <!--/--> | result &lt;chr&gt; | age &lt;dbl&gt; | points &lt;dbl&gt; |\n",
       "|---|---|---|---|\n",
       "| 3 | win | 29.00479 | 3590 |\n",
       "| 4 | win | 33.70568 |  200 |\n",
       "| 5 | win | 22.88569 | 1977 |\n",
       "| ⋮ | ⋮ | ⋮ | ⋮ |\n",
       "| 13692 | lose | 31.40862 | 10465 |\n",
       "| 13703 | lose | 36.26557 |  9005 |\n",
       "| 13707 | lose | 32.59411 |  2320 |\n",
       "\n"
      ],
      "text/plain": [
       "      result age      points\n",
       "3     win    29.00479 3590  \n",
       "4     win    33.70568  200  \n",
       "5     win    22.88569 1977  \n",
       "⋮     ⋮      ⋮        ⋮     \n",
       "13692 lose   31.40862 10465 \n",
       "13703 lose   36.26557  9005 \n",
       "13707 lose   32.59411  2320 "
      ]
     },
     "metadata": {},
     "output_type": "display_data"
    }
   ],
   "source": [
    "data_split <- initial_split(combined_data, prop = 0.8, strata = result)  \n",
    "result_train <- training(data_split)   \n",
    "result_test <- testing(data_split)\n",
    "\n",
    "result_train\n",
    "result_test"
   ]
  },
  {
   "cell_type": "code",
   "execution_count": 7,
   "id": "4f5a3415-b636-4364-80df-76bee4cf274c",
   "metadata": {},
   "outputs": [
    {
     "data": {
      "text/html": [
       "<table class=\"dataframe\">\n",
       "<caption>A tibble: 2 × 2</caption>\n",
       "<thead>\n",
       "\t<tr><th scope=col>result</th><th scope=col>points</th></tr>\n",
       "\t<tr><th scope=col>&lt;chr&gt;</th><th scope=col>&lt;dbl&gt;</th></tr>\n",
       "</thead>\n",
       "<tbody>\n",
       "\t<tr><td>lose</td><td>1151.958</td></tr>\n",
       "\t<tr><td>win </td><td>1790.338</td></tr>\n",
       "</tbody>\n",
       "</table>\n"
      ],
      "text/latex": [
       "A tibble: 2 × 2\n",
       "\\begin{tabular}{ll}\n",
       " result & points\\\\\n",
       " <chr> & <dbl>\\\\\n",
       "\\hline\n",
       "\t lose & 1151.958\\\\\n",
       "\t win  & 1790.338\\\\\n",
       "\\end{tabular}\n"
      ],
      "text/markdown": [
       "\n",
       "A tibble: 2 × 2\n",
       "\n",
       "| result &lt;chr&gt; | points &lt;dbl&gt; |\n",
       "|---|---|\n",
       "| lose | 1151.958 |\n",
       "| win  | 1790.338 |\n",
       "\n"
      ],
      "text/plain": [
       "  result points  \n",
       "1 lose   1151.958\n",
       "2 win    1790.338"
      ]
     },
     "metadata": {},
     "output_type": "display_data"
    },
    {
     "data": {
      "text/html": [
       "<table class=\"dataframe\">\n",
       "<caption>A tibble: 2 × 2</caption>\n",
       "<thead>\n",
       "\t<tr><th scope=col>result</th><th scope=col>age</th></tr>\n",
       "\t<tr><th scope=col>&lt;chr&gt;</th><th scope=col>&lt;dbl&gt;</th></tr>\n",
       "</thead>\n",
       "<tbody>\n",
       "\t<tr><td>lose</td><td>27.50645</td></tr>\n",
       "\t<tr><td>win </td><td>27.66466</td></tr>\n",
       "</tbody>\n",
       "</table>\n"
      ],
      "text/latex": [
       "A tibble: 2 × 2\n",
       "\\begin{tabular}{ll}\n",
       " result & age\\\\\n",
       " <chr> & <dbl>\\\\\n",
       "\\hline\n",
       "\t lose & 27.50645\\\\\n",
       "\t win  & 27.66466\\\\\n",
       "\\end{tabular}\n"
      ],
      "text/markdown": [
       "\n",
       "A tibble: 2 × 2\n",
       "\n",
       "| result &lt;chr&gt; | age &lt;dbl&gt; |\n",
       "|---|---|\n",
       "| lose | 27.50645 |\n",
       "| win  | 27.66466 |\n",
       "\n"
      ],
      "text/plain": [
       "  result age     \n",
       "1 lose   27.50645\n",
       "2 win    27.66466"
      ]
     },
     "metadata": {},
     "output_type": "display_data"
    }
   ],
   "source": [
    "predictor_mean1 <- result_train |>\n",
    "                  group_by(result) |>\n",
    "                  summarize(points = mean(points))\n",
    "predictor_mean1\n",
    "\n",
    "\n",
    "\n",
    "\n",
    "predictor_mean3 <- result_train |>\n",
    "                  group_by(result) |>\n",
    "                  summarize(age = mean(age))\n",
    "predictor_mean3"
   ]
  },
  {
   "cell_type": "code",
   "execution_count": 12,
   "id": "299ee780-9dfc-4b9e-ae14-9b3cde66acfd",
   "metadata": {},
   "outputs": [
    {
     "name": "stderr",
     "output_type": "stream",
     "text": [
      "`stat_bin()` using `bins = 30`. Pick better value with `binwidth`.\n",
      "\n",
      "Warning message:\n",
      "“Removed 545 rows containing non-finite values (stat_bin).”\n",
      "Warning message:\n",
      "“Removed 2 rows containing missing values (geom_bar).”\n"
     ]
    },
    {
     "data": {
      "image/png": "[encoded data removed]",
      "text/plain": [
       "plot without title"
      ]
     },
     "metadata": {
      "image/png": {
       "height": 420,
       "width": 420
      }
     },
     "output_type": "display_data"
    },
    {
     "data": {
      "image/png": "[encoded data removed]",
      "text/plain": [
       "plot without title"
      ]
     },
     "metadata": {
      "image/png": {
       "height": 420,
       "width": 420
      }
     },
     "output_type": "display_data"
    }
   ],
   "source": [
    "train_plot_1 <- ggplot(predictor_mean1, aes(x = result, y = points, fill = result)) +\n",
    "                geom_bar(stat = \"identity\") +\n",
    "                labs(x = \"result\", y = \"score\") +\n",
    "                ggtitle(\"fig.1\")\n",
    "train_plot_1\n",
    "\n",
    "\n",
    "train_plot_6 <- ggplot(combined_data , aes(x = points)) +\n",
    "                      geom_histogram(fill = \"lightblue\") +\n",
    "                labs(x = \"score\") +\n",
    "                scale_x_continuous(limits=c(0, 5000)) +\n",
    "                ggtitle(\"fig.2\")\n",
    "train_plot_6"
   ]
  },
  {
   "cell_type": "code",
   "execution_count": null,
   "id": "1b6c88e8-59cd-4651-8f1e-e712e6215504",
   "metadata": {},
   "outputs": [],
   "source": []
  }
 ],
 "metadata": {
  "kernelspec": {
   "display_name": "R",
   "language": "R",
   "name": "ir"
  },
  "language_info": {
   "codemirror_mode": "r",
   "file_extension": ".r",
   "mimetype": "text/x-r-source",
   "name": "R",
   "pygments_lexer": "r",
   "version": "4.1.3"
  }
 },
 "nbformat": 4,
 "nbformat_minor": 5
}

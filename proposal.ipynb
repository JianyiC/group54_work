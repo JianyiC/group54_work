{
 "cells": [
  {
   "cell_type": "code",
   "execution_count": 1,
   "id": "737dec79-bfd2-4d64-a109-7fa15ca7b279",
   "metadata": {},
   "outputs": [
    {
     "name": "stderr",
     "output_type": "stream",
     "text": [
      "── \u001b[1mAttaching packages\u001b[22m ─────────────────────────────────────── tidyverse 1.3.1 ──\n",
      "\n",
      "\u001b[32m✔\u001b[39m \u001b[34mggplot2\u001b[39m 3.3.6     \u001b[32m✔\u001b[39m \u001b[34mpurrr  \u001b[39m 1.0.1\n",
      "\u001b[32m✔\u001b[39m \u001b[34mtibble \u001b[39m 3.2.1     \u001b[32m✔\u001b[39m \u001b[34mdplyr  \u001b[39m 1.1.2\n",
      "\u001b[32m✔\u001b[39m \u001b[34mtidyr  \u001b[39m 1.2.0     \u001b[32m✔\u001b[39m \u001b[34mstringr\u001b[39m 1.4.0\n",
      "\u001b[32m✔\u001b[39m \u001b[34mreadr  \u001b[39m 2.1.2     \u001b[32m✔\u001b[39m \u001b[34mforcats\u001b[39m 0.5.1\n",
      "\n",
      "── \u001b[1mConflicts\u001b[22m ────────────────────────────────────────── tidyverse_conflicts() ──\n",
      "\u001b[31m✖\u001b[39m \u001b[34mdplyr\u001b[39m::\u001b[32mfilter()\u001b[39m masks \u001b[34mstats\u001b[39m::filter()\n",
      "\u001b[31m✖\u001b[39m \u001b[34mdplyr\u001b[39m::\u001b[32mlag()\u001b[39m    masks \u001b[34mstats\u001b[39m::lag()\n",
      "\n",
      "── \u001b[1mAttaching packages\u001b[22m ────────────────────────────────────── tidymodels 1.0.0 ──\n",
      "\n",
      "\u001b[32m✔\u001b[39m \u001b[34mbroom       \u001b[39m 1.0.0     \u001b[32m✔\u001b[39m \u001b[34mrsample     \u001b[39m 1.0.0\n",
      "\u001b[32m✔\u001b[39m \u001b[34mdials       \u001b[39m 1.0.0     \u001b[32m✔\u001b[39m \u001b[34mtune        \u001b[39m 1.0.0\n",
      "\u001b[32m✔\u001b[39m \u001b[34minfer       \u001b[39m 1.0.2     \u001b[32m✔\u001b[39m \u001b[34mworkflows   \u001b[39m 1.0.0\n",
      "\u001b[32m✔\u001b[39m \u001b[34mmodeldata   \u001b[39m 1.0.0     \u001b[32m✔\u001b[39m \u001b[34mworkflowsets\u001b[39m 1.0.0\n",
      "\u001b[32m✔\u001b[39m \u001b[34mparsnip     \u001b[39m 1.0.0     \u001b[32m✔\u001b[39m \u001b[34myardstick   \u001b[39m 1.0.0\n",
      "\u001b[32m✔\u001b[39m \u001b[34mrecipes     \u001b[39m 1.0.6     \n",
      "\n",
      "── \u001b[1mConflicts\u001b[22m ───────────────────────────────────────── tidymodels_conflicts() ──\n",
      "\u001b[31m✖\u001b[39m \u001b[34mscales\u001b[39m::\u001b[32mdiscard()\u001b[39m masks \u001b[34mpurrr\u001b[39m::discard()\n",
      "\u001b[31m✖\u001b[39m \u001b[34mdplyr\u001b[39m::\u001b[32mfilter()\u001b[39m   masks \u001b[34mstats\u001b[39m::filter()\n",
      "\u001b[31m✖\u001b[39m \u001b[34mrecipes\u001b[39m::\u001b[32mfixed()\u001b[39m  masks \u001b[34mstringr\u001b[39m::fixed()\n",
      "\u001b[31m✖\u001b[39m \u001b[34mdplyr\u001b[39m::\u001b[32mlag()\u001b[39m      masks \u001b[34mstats\u001b[39m::lag()\n",
      "\u001b[31m✖\u001b[39m \u001b[34myardstick\u001b[39m::\u001b[32mspec()\u001b[39m masks \u001b[34mreadr\u001b[39m::spec()\n",
      "\u001b[31m✖\u001b[39m \u001b[34mrecipes\u001b[39m::\u001b[32mstep()\u001b[39m   masks \u001b[34mstats\u001b[39m::step()\n",
      "\u001b[34m•\u001b[39m Dig deeper into tidy modeling with R at \u001b[32mhttps://www.tmwr.org\u001b[39m\n",
      "\n",
      "Warning message in file(filename, \"r\", encoding = encoding):\n",
      "“cannot open file 'tests.R': No such file or directory”\n"
     ]
    },
    {
     "ename": "ERROR",
     "evalue": "Error in file(filename, \"r\", encoding = encoding): cannot open the connection\n",
     "output_type": "error",
     "traceback": [
      "Error in file(filename, \"r\", encoding = encoding): cannot open the connection\nTraceback:\n",
      "1. source(\"tests.R\")",
      "2. file(filename, \"r\", encoding = encoding)"
     ]
    }
   ],
   "source": [
    "library(tidyverse)\n",
    "library(repr)\n",
    "library(tidymodels)\n",
    "options(repr.matrix.max.rows = 6)\n",
    "source('tests.R')\n",
    "source('cleanup.R')"
   ]
  },
  {
   "cell_type": "code",
   "execution_count": 22,
   "id": "874006e8-2e85-4a7b-a296-1381520366e9",
   "metadata": {},
   "outputs": [
    {
     "name": "stderr",
     "output_type": "stream",
     "text": [
      "\u001b[1m\u001b[22mNew names:\n",
      "\u001b[36m•\u001b[39m `` -> `...1`\n",
      "\u001b[1mRows: \u001b[22m\u001b[34m6866\u001b[39m \u001b[1mColumns: \u001b[22m\u001b[34m50\u001b[39m\n",
      "\u001b[36m──\u001b[39m \u001b[1mColumn specification\u001b[22m \u001b[36m────────────────────────────────────────────────────────\u001b[39m\n",
      "\u001b[1mDelimiter:\u001b[22m \",\"\n",
      "\u001b[31mchr\u001b[39m (16): tourney_id, tourney_name, surface, tourney_level, winner_seed, win...\n",
      "\u001b[32mdbl\u001b[39m (34): ...1, draw_size, tourney_date, match_num, winner_id, winner_ht, wi...\n",
      "\n",
      "\u001b[36mℹ\u001b[39m Use `spec()` to retrieve the full column specification for this data.\n",
      "\u001b[36mℹ\u001b[39m Specify the column types or set `show_col_types = FALSE` to quiet this message.\n"
     ]
    },
    {
     "data": {
      "text/html": [
       "<table class=\"dataframe\">\n",
       "<caption>A tibble: 6854 × 6</caption>\n",
       "<thead>\n",
       "\t<tr><th scope=col>winner_age</th><th scope=col>loser_age</th><th scope=col>winner_rank</th><th scope=col>loser_rank</th><th scope=col>winner_rank_points</th><th scope=col>loser_rank_points</th></tr>\n",
       "\t<tr><th scope=col>&lt;dbl&gt;</th><th scope=col>&lt;dbl&gt;</th><th scope=col>&lt;dbl&gt;</th><th scope=col>&lt;dbl&gt;</th><th scope=col>&lt;dbl&gt;</th><th scope=col>&lt;dbl&gt;</th></tr>\n",
       "</thead>\n",
       "<tbody>\n",
       "\t<tr><td>29.00479</td><td>22.88569</td><td> 9</td><td> 16</td><td>3590</td><td>1977</td></tr>\n",
       "\t<tr><td>22.88569</td><td>33.70568</td><td>16</td><td>239</td><td>1977</td><td> 200</td></tr>\n",
       "\t<tr><td>29.00479</td><td>31.88227</td><td> 9</td><td> 40</td><td>3590</td><td>1050</td></tr>\n",
       "\t<tr><td>⋮</td><td>⋮</td><td>⋮</td><td>⋮</td><td>⋮</td><td>⋮</td></tr>\n",
       "\t<tr><td>32.59411</td><td>33.68925</td><td>15</td><td>76</td><td>2320</td><td> 667</td></tr>\n",
       "\t<tr><td>26.95414</td><td>32.59411</td><td> 7</td><td>15</td><td>3775</td><td>2320</td></tr>\n",
       "\t<tr><td>23.73990</td><td>33.68925</td><td>18</td><td>76</td><td>2235</td><td> 667</td></tr>\n",
       "</tbody>\n",
       "</table>\n"
      ],
      "text/latex": [
       "A tibble: 6854 × 6\n",
       "\\begin{tabular}{llllll}\n",
       " winner\\_age & loser\\_age & winner\\_rank & loser\\_rank & winner\\_rank\\_points & loser\\_rank\\_points\\\\\n",
       " <dbl> & <dbl> & <dbl> & <dbl> & <dbl> & <dbl>\\\\\n",
       "\\hline\n",
       "\t 29.00479 & 22.88569 &  9 &  16 & 3590 & 1977\\\\\n",
       "\t 22.88569 & 33.70568 & 16 & 239 & 1977 &  200\\\\\n",
       "\t 29.00479 & 31.88227 &  9 &  40 & 3590 & 1050\\\\\n",
       "\t ⋮ & ⋮ & ⋮ & ⋮ & ⋮ & ⋮\\\\\n",
       "\t 32.59411 & 33.68925 & 15 & 76 & 2320 &  667\\\\\n",
       "\t 26.95414 & 32.59411 &  7 & 15 & 3775 & 2320\\\\\n",
       "\t 23.73990 & 33.68925 & 18 & 76 & 2235 &  667\\\\\n",
       "\\end{tabular}\n"
      ],
      "text/markdown": [
       "\n",
       "A tibble: 6854 × 6\n",
       "\n",
       "| winner_age &lt;dbl&gt; | loser_age &lt;dbl&gt; | winner_rank &lt;dbl&gt; | loser_rank &lt;dbl&gt; | winner_rank_points &lt;dbl&gt; | loser_rank_points &lt;dbl&gt; |\n",
       "|---|---|---|---|---|---|\n",
       "| 29.00479 | 22.88569 |  9 |  16 | 3590 | 1977 |\n",
       "| 22.88569 | 33.70568 | 16 | 239 | 1977 |  200 |\n",
       "| 29.00479 | 31.88227 |  9 |  40 | 3590 | 1050 |\n",
       "| ⋮ | ⋮ | ⋮ | ⋮ | ⋮ | ⋮ |\n",
       "| 32.59411 | 33.68925 | 15 | 76 | 2320 |  667 |\n",
       "| 26.95414 | 32.59411 |  7 | 15 | 3775 | 2320 |\n",
       "| 23.73990 | 33.68925 | 18 | 76 | 2235 |  667 |\n",
       "\n"
      ],
      "text/plain": [
       "     winner_age loser_age winner_rank loser_rank winner_rank_points\n",
       "1    29.00479   22.88569   9           16        3590              \n",
       "2    22.88569   33.70568  16          239        1977              \n",
       "3    29.00479   31.88227   9           40        3590              \n",
       "⋮    ⋮          ⋮         ⋮           ⋮          ⋮                 \n",
       "6852 32.59411   33.68925  15          76         2320              \n",
       "6853 26.95414   32.59411   7          15         3775              \n",
       "6854 23.73990   33.68925  18          76         2235              \n",
       "     loser_rank_points\n",
       "1    1977             \n",
       "2     200             \n",
       "3    1050             \n",
       "⋮    ⋮                \n",
       "6852  667             \n",
       "6853 2320             \n",
       "6854  667             "
      ]
     },
     "metadata": {},
     "output_type": "display_data"
    }
   ],
   "source": [
    "atp_data <- read_csv(\"https://raw.githubusercontent.com/JianyiC/group54_work/main/atp2017-2019.csv\") |>\n",
    "  select(winner_age, loser_age, winner_rank, loser_rank, winner_rank_points, loser_rank_points) |> \n",
    "  na.omit()\n",
    "atp_data"
   ]
  },
  {
   "cell_type": "code",
   "execution_count": 38,
   "id": "0affb0eb-e58c-4d76-8c68-04a42983c6a5",
   "metadata": {},
   "outputs": [
    {
     "data": {
      "text/html": [
       "<table class=\"dataframe\">\n",
       "<caption>A data.frame: 6854 × 4</caption>\n",
       "<thead>\n",
       "\t<tr><th scope=col>result</th><th scope=col>age</th><th scope=col>rank</th><th scope=col>NA</th></tr>\n",
       "\t<tr><th scope=col>&lt;chr&gt;</th><th scope=col>&lt;dbl&gt;</th><th scope=col>&lt;dbl&gt;</th><th scope=col>&lt;dbl&gt;</th></tr>\n",
       "</thead>\n",
       "<tbody>\n",
       "\t<tr><td>lose</td><td>22.88569</td><td> 16</td><td>1977</td></tr>\n",
       "\t<tr><td>lose</td><td>33.70568</td><td>239</td><td> 200</td></tr>\n",
       "\t<tr><td>lose</td><td>31.88227</td><td> 40</td><td>1050</td></tr>\n",
       "\t<tr><td>⋮</td><td>⋮</td><td>⋮</td><td>⋮</td></tr>\n",
       "\t<tr><td>lose</td><td>33.68925</td><td>76</td><td> 667</td></tr>\n",
       "\t<tr><td>lose</td><td>32.59411</td><td>15</td><td>2320</td></tr>\n",
       "\t<tr><td>lose</td><td>33.68925</td><td>76</td><td> 667</td></tr>\n",
       "</tbody>\n",
       "</table>\n"
      ],
      "text/latex": [
       "A data.frame: 6854 × 4\n",
       "\\begin{tabular}{llll}\n",
       " result & age & rank & NA\\\\\n",
       " <chr> & <dbl> & <dbl> & <dbl>\\\\\n",
       "\\hline\n",
       "\t lose & 22.88569 &  16 & 1977\\\\\n",
       "\t lose & 33.70568 & 239 &  200\\\\\n",
       "\t lose & 31.88227 &  40 & 1050\\\\\n",
       "\t ⋮ & ⋮ & ⋮ & ⋮\\\\\n",
       "\t lose & 33.68925 & 76 &  667\\\\\n",
       "\t lose & 32.59411 & 15 & 2320\\\\\n",
       "\t lose & 33.68925 & 76 &  667\\\\\n",
       "\\end{tabular}\n"
      ],
      "text/markdown": [
       "\n",
       "A data.frame: 6854 × 4\n",
       "\n",
       "| result &lt;chr&gt; | age &lt;dbl&gt; | rank &lt;dbl&gt; | NA &lt;dbl&gt; |\n",
       "|---|---|---|---|\n",
       "| lose | 22.88569 |  16 | 1977 |\n",
       "| lose | 33.70568 | 239 |  200 |\n",
       "| lose | 31.88227 |  40 | 1050 |\n",
       "| ⋮ | ⋮ | ⋮ | ⋮ |\n",
       "| lose | 33.68925 | 76 |  667 |\n",
       "| lose | 32.59411 | 15 | 2320 |\n",
       "| lose | 33.68925 | 76 |  667 |\n",
       "\n"
      ],
      "text/plain": [
       "     result age      rank <NA>\n",
       "1    lose   22.88569  16  1977\n",
       "2    lose   33.70568 239   200\n",
       "3    lose   31.88227  40  1050\n",
       "⋮    ⋮      ⋮        ⋮    ⋮   \n",
       "6852 lose   33.68925 76    667\n",
       "6853 lose   32.59411 15   2320\n",
       "6854 lose   33.68925 76    667"
      ]
     },
     "metadata": {},
     "output_type": "display_data"
    }
   ],
   "source": [
    "lose <- rep(c(\"lose\"), times = nrow(atp_data))\n",
    "\n",
    "atp_lose <- cbind(atp_data, lose) |>\n",
    "  select(lose, loser_age, loser_rank, loser_rank_points)\n",
    "\n",
    "colnames(atp_lose) <- c(\"result\", \"age\",\"rank\", \"points\")\n",
    "atp_data_lose"
   ]
  },
  {
   "cell_type": "code",
   "execution_count": 36,
   "id": "959b2107-6490-4330-bd1e-4b433f2d13c7",
   "metadata": {},
   "outputs": [
    {
     "data": {
      "text/html": [
       "<table class=\"dataframe\">\n",
       "<caption>A data.frame: 6854 × 4</caption>\n",
       "<thead>\n",
       "\t<tr><th scope=col>result</th><th scope=col>age</th><th scope=col>rank</th><th scope=col>NA</th></tr>\n",
       "\t<tr><th scope=col>&lt;chr&gt;</th><th scope=col>&lt;dbl&gt;</th><th scope=col>&lt;dbl&gt;</th><th scope=col>&lt;dbl&gt;</th></tr>\n",
       "</thead>\n",
       "<tbody>\n",
       "\t<tr><td>win</td><td>29.00479</td><td> 9</td><td>3590</td></tr>\n",
       "\t<tr><td>win</td><td>22.88569</td><td>16</td><td>1977</td></tr>\n",
       "\t<tr><td>win</td><td>29.00479</td><td> 9</td><td>3590</td></tr>\n",
       "\t<tr><td>⋮</td><td>⋮</td><td>⋮</td><td>⋮</td></tr>\n",
       "\t<tr><td>win</td><td>32.59411</td><td>15</td><td>2320</td></tr>\n",
       "\t<tr><td>win</td><td>26.95414</td><td> 7</td><td>3775</td></tr>\n",
       "\t<tr><td>win</td><td>23.73990</td><td>18</td><td>2235</td></tr>\n",
       "</tbody>\n",
       "</table>\n"
      ],
      "text/latex": [
       "A data.frame: 6854 × 4\n",
       "\\begin{tabular}{llll}\n",
       " result & age & rank & NA\\\\\n",
       " <chr> & <dbl> & <dbl> & <dbl>\\\\\n",
       "\\hline\n",
       "\t win & 29.00479 &  9 & 3590\\\\\n",
       "\t win & 22.88569 & 16 & 1977\\\\\n",
       "\t win & 29.00479 &  9 & 3590\\\\\n",
       "\t ⋮ & ⋮ & ⋮ & ⋮\\\\\n",
       "\t win & 32.59411 & 15 & 2320\\\\\n",
       "\t win & 26.95414 &  7 & 3775\\\\\n",
       "\t win & 23.73990 & 18 & 2235\\\\\n",
       "\\end{tabular}\n"
      ],
      "text/markdown": [
       "\n",
       "A data.frame: 6854 × 4\n",
       "\n",
       "| result &lt;chr&gt; | age &lt;dbl&gt; | rank &lt;dbl&gt; | NA &lt;dbl&gt; |\n",
       "|---|---|---|---|\n",
       "| win | 29.00479 |  9 | 3590 |\n",
       "| win | 22.88569 | 16 | 1977 |\n",
       "| win | 29.00479 |  9 | 3590 |\n",
       "| ⋮ | ⋮ | ⋮ | ⋮ |\n",
       "| win | 32.59411 | 15 | 2320 |\n",
       "| win | 26.95414 |  7 | 3775 |\n",
       "| win | 23.73990 | 18 | 2235 |\n",
       "\n"
      ],
      "text/plain": [
       "     result age      rank <NA>\n",
       "1    win    29.00479  9   3590\n",
       "2    win    22.88569 16   1977\n",
       "3    win    29.00479  9   3590\n",
       "⋮    ⋮      ⋮        ⋮    ⋮   \n",
       "6852 win    32.59411 15   2320\n",
       "6853 win    26.95414  7   3775\n",
       "6854 win    23.73990 18   2235"
      ]
     },
     "metadata": {},
     "output_type": "display_data"
    }
   ],
   "source": [
    "win <- rep(c(\"win\"), times = nrow(atp_data))\n",
    "\n",
    "atp_win <- cbind(atp_data, win) |>\n",
    "  select(win, winner_age, winner_rank, winner_rank_points)\n",
    "\n",
    "colnames(atp_win) <- c(\"result\", \"age\",\"rank\", \"points\")\n",
    "\n",
    "atp_data_win"
   ]
  },
  {
   "cell_type": "code",
   "execution_count": 39,
   "id": "b1413567-95a6-4960-802e-2053bbd729e7",
   "metadata": {},
   "outputs": [
    {
     "data": {
      "text/html": [
       "<table class=\"dataframe\">\n",
       "<caption>A data.frame: 10154 × 4</caption>\n",
       "<thead>\n",
       "\t<tr><th></th><th scope=col>result</th><th scope=col>age</th><th scope=col>rank</th><th scope=col>first_svpt_won</th></tr>\n",
       "\t<tr><th></th><th scope=col>&lt;fct&gt;</th><th scope=col>&lt;dbl&gt;</th><th scope=col>&lt;dbl&gt;</th><th scope=col>&lt;dbl&gt;</th></tr>\n",
       "</thead>\n",
       "<tbody>\n",
       "\t<tr><th scope=row>6771</th><td>lose</td><td>22.88569</td><td> 16</td><td>34</td></tr>\n",
       "\t<tr><th scope=row>6772</th><td>lose</td><td>33.70568</td><td>239</td><td>36</td></tr>\n",
       "\t<tr><th scope=row>6775</th><td>lose</td><td>28.01095</td><td> 18</td><td>46</td></tr>\n",
       "\t<tr><th scope=row>⋮</th><td>⋮</td><td>⋮</td><td>⋮</td><td>⋮</td></tr>\n",
       "\t<tr><th scope=row>6768</th><td>win</td><td>32.59411</td><td>15</td><td>31</td></tr>\n",
       "\t<tr><th scope=row>6769</th><td>win</td><td>26.95414</td><td> 7</td><td>47</td></tr>\n",
       "\t<tr><th scope=row>6770</th><td>win</td><td>23.73990</td><td>18</td><td>34</td></tr>\n",
       "</tbody>\n",
       "</table>\n"
      ],
      "text/latex": [
       "A data.frame: 10154 × 4\n",
       "\\begin{tabular}{r|llll}\n",
       "  & result & age & rank & first\\_svpt\\_won\\\\\n",
       "  & <fct> & <dbl> & <dbl> & <dbl>\\\\\n",
       "\\hline\n",
       "\t6771 & lose & 22.88569 &  16 & 34\\\\\n",
       "\t6772 & lose & 33.70568 & 239 & 36\\\\\n",
       "\t6775 & lose & 28.01095 &  18 & 46\\\\\n",
       "\t⋮ & ⋮ & ⋮ & ⋮ & ⋮\\\\\n",
       "\t6768 & win & 32.59411 & 15 & 31\\\\\n",
       "\t6769 & win & 26.95414 &  7 & 47\\\\\n",
       "\t6770 & win & 23.73990 & 18 & 34\\\\\n",
       "\\end{tabular}\n"
      ],
      "text/markdown": [
       "\n",
       "A data.frame: 10154 × 4\n",
       "\n",
       "| <!--/--> | result &lt;fct&gt; | age &lt;dbl&gt; | rank &lt;dbl&gt; | first_svpt_won &lt;dbl&gt; |\n",
       "|---|---|---|---|---|\n",
       "| 6771 | lose | 22.88569 |  16 | 34 |\n",
       "| 6772 | lose | 33.70568 | 239 | 36 |\n",
       "| 6775 | lose | 28.01095 |  18 | 46 |\n",
       "| ⋮ | ⋮ | ⋮ | ⋮ | ⋮ |\n",
       "| 6768 | win | 32.59411 | 15 | 31 |\n",
       "| 6769 | win | 26.95414 |  7 | 47 |\n",
       "| 6770 | win | 23.73990 | 18 | 34 |\n",
       "\n"
      ],
      "text/plain": [
       "     result age      rank first_svpt_won\n",
       "6771 lose   22.88569  16  34            \n",
       "6772 lose   33.70568 239  36            \n",
       "6775 lose   28.01095  18  46            \n",
       "⋮    ⋮      ⋮        ⋮    ⋮             \n",
       "6768 win    32.59411 15   31            \n",
       "6769 win    26.95414  7   47            \n",
       "6770 win    23.73990 18   34            "
      ]
     },
     "metadata": {},
     "output_type": "display_data"
    },
    {
     "data": {
      "text/html": [
       "<table class=\"dataframe\">\n",
       "<caption>A data.frame: 3386 × 4</caption>\n",
       "<thead>\n",
       "\t<tr><th></th><th scope=col>result</th><th scope=col>age</th><th scope=col>rank</th><th scope=col>first_svpt_won</th></tr>\n",
       "\t<tr><th></th><th scope=col>&lt;fct&gt;</th><th scope=col>&lt;dbl&gt;</th><th scope=col>&lt;dbl&gt;</th><th scope=col>&lt;dbl&gt;</th></tr>\n",
       "</thead>\n",
       "<tbody>\n",
       "\t<tr><th scope=row>1</th><td>win</td><td>29.00479</td><td> 9</td><td>31</td></tr>\n",
       "\t<tr><th scope=row>2</th><td>win</td><td>22.88569</td><td>16</td><td>28</td></tr>\n",
       "\t<tr><th scope=row>3</th><td>win</td><td>29.00479</td><td> 9</td><td>26</td></tr>\n",
       "\t<tr><th scope=row>⋮</th><td>⋮</td><td>⋮</td><td>⋮</td><td>⋮</td></tr>\n",
       "\t<tr><th scope=row>13527</th><td>lose</td><td>29.12526</td><td>5</td><td>37</td></tr>\n",
       "\t<tr><th scope=row>13531</th><td>lose</td><td>24.19439</td><td>4</td><td>14</td></tr>\n",
       "\t<tr><th scope=row>13532</th><td>lose</td><td>24.19439</td><td>4</td><td>35</td></tr>\n",
       "</tbody>\n",
       "</table>\n"
      ],
      "text/latex": [
       "A data.frame: 3386 × 4\n",
       "\\begin{tabular}{r|llll}\n",
       "  & result & age & rank & first\\_svpt\\_won\\\\\n",
       "  & <fct> & <dbl> & <dbl> & <dbl>\\\\\n",
       "\\hline\n",
       "\t1 & win & 29.00479 &  9 & 31\\\\\n",
       "\t2 & win & 22.88569 & 16 & 28\\\\\n",
       "\t3 & win & 29.00479 &  9 & 26\\\\\n",
       "\t⋮ & ⋮ & ⋮ & ⋮ & ⋮\\\\\n",
       "\t13527 & lose & 29.12526 & 5 & 37\\\\\n",
       "\t13531 & lose & 24.19439 & 4 & 14\\\\\n",
       "\t13532 & lose & 24.19439 & 4 & 35\\\\\n",
       "\\end{tabular}\n"
      ],
      "text/markdown": [
       "\n",
       "A data.frame: 3386 × 4\n",
       "\n",
       "| <!--/--> | result &lt;fct&gt; | age &lt;dbl&gt; | rank &lt;dbl&gt; | first_svpt_won &lt;dbl&gt; |\n",
       "|---|---|---|---|---|\n",
       "| 1 | win | 29.00479 |  9 | 31 |\n",
       "| 2 | win | 22.88569 | 16 | 28 |\n",
       "| 3 | win | 29.00479 |  9 | 26 |\n",
       "| ⋮ | ⋮ | ⋮ | ⋮ | ⋮ |\n",
       "| 13527 | lose | 29.12526 | 5 | 37 |\n",
       "| 13531 | lose | 24.19439 | 4 | 14 |\n",
       "| 13532 | lose | 24.19439 | 4 | 35 |\n",
       "\n"
      ],
      "text/plain": [
       "      result age      rank first_svpt_won\n",
       "1     win    29.00479  9   31            \n",
       "2     win    22.88569 16   28            \n",
       "3     win    29.00479  9   26            \n",
       "⋮     ⋮      ⋮        ⋮    ⋮             \n",
       "13527 lose   29.12526 5    37            \n",
       "13531 lose   24.19439 4    14            \n",
       "13532 lose   24.19439 4    35            "
      ]
     },
     "metadata": {},
     "output_type": "display_data"
    }
   ],
   "source": [
    "data_split <- initial_split(data, prop = 0.75, strata = result)  \n",
    "atp_train <- training(data_split)   \n",
    "atp_test <- testing(data_split)\n",
    "\n",
    "atp_train\n",
    "atp_test"
   ]
  },
  {
   "cell_type": "code",
   "execution_count": null,
   "id": "99bde012-69d7-495a-93e0-92034e49cdb6",
   "metadata": {},
   "outputs": [],
   "source": []
  }
 ],
 "metadata": {
  "kernelspec": {
   "display_name": "R",
   "language": "R",
   "name": "ir"
  },
  "language_info": {
   "codemirror_mode": "r",
   "file_extension": ".r",
   "mimetype": "text/x-r-source",
   "name": "R",
   "pygments_lexer": "r",
   "version": "4.1.3"
  }
 },
 "nbformat": 4,
 "nbformat_minor": 5
}
